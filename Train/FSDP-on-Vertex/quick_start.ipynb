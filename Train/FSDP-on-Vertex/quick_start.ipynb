{
 "cells": [
  {
   "cell_type": "markdown",
   "metadata": {},
   "source": [
    "Before you begin the fine-tune job, please make sure you have the Vertex AI Custom Training GPU quota in the GCP region, find out more information related to Vertex AI Custom Training GPU quota in https://cloud.google.com/vertex-ai/docs/quotas."
   ]
  },
  {
   "cell_type": "markdown",
   "metadata": {},
   "source": [
    "All the fine-tune job step by step guide is suggested to execute in the Vertex AI Workbench Instance, please reference the guide https://cloud.google.com/vertex-ai/docs/workbench/managed/create-managed-notebooks-instance-console-quickstart to create a Vertex AI Workbench Instance."
   ]
  },
  {
   "cell_type": "markdown",
   "metadata": {},
   "source": [
    "1. Init scirpt parameters"
   ]
  },
  {
   "cell_type": "code",
   "execution_count": null,
   "metadata": {},
   "outputs": [],
   "source": [
    "# Set SingleNode Training or MultiNode Training\n",
    "MULTI_NODE = True # @param {type:\"boolean\"}"
   ]
  },
  {
   "cell_type": "code",
   "execution_count": null,
   "metadata": {},
   "outputs": [],
   "source": [
    "# Input your project id \n",
    "PROJECT_ID = \"\"  # @param {type:\"string\"}"
   ]
  },
  {
   "cell_type": "code",
   "execution_count": null,
   "metadata": {},
   "outputs": [],
   "source": [
    "# Input your GCP resource region\n",
    "REGION = \"\"  # @param {type: \"string\"}"
   ]
  },
  {
   "cell_type": "code",
   "execution_count": null,
   "metadata": {},
   "outputs": [],
   "source": [
    "# Input your cloud bucket URI, example: gcs://<bucketname>\n",
    "BUCKET_URI = \"\"  # @param {type:\"string\"}"
   ]
  },
  {
   "cell_type": "code",
   "execution_count": null,
   "metadata": {},
   "outputs": [],
   "source": [
    "# Input your cloud artifact repository name\n",
    "REPO_NAME = \"llmfinetune\"  # @param {type:\"string\"}"
   ]
  },
  {
   "cell_type": "code",
   "execution_count": null,
   "metadata": {},
   "outputs": [],
   "source": [
    "# Input your custom training image uri\n",
    "IMAGE_URI = REGION + \"-docker.pkg.dev/\" + PROJECT_ID + f\"/{REPO_NAME}/11.8.0-runtime-ubuntu20.04\" # @param {type:\"string\"}"
   ]
  },
  {
   "cell_type": "code",
   "execution_count": null,
   "metadata": {},
   "outputs": [],
   "source": [
    "# Input Vertex AI tensorboard display name\n",
    "TENSORBOARD_DISPLAY_NAME = \"llama2_tensorboard\" # @param {type:\"string\"}"
   ]
  },
  {
   "cell_type": "code",
   "execution_count": null,
   "metadata": {},
   "outputs": [],
   "source": [
    "# Input service account, please create the service acccount before the training\n",
    "SVC_ACCOUNT = \"\" # @param {type:\"string\"}"
   ]
  },
  {
   "cell_type": "code",
   "execution_count": null,
   "metadata": {},
   "outputs": [],
   "source": [
    "# Set the JOB execution mode, when set to True, the training job will be submitted with pending state, and you can login to the runtime to execute the training job manually\n",
    "DEBUG = False # @param {type:\"boolean\"}"
   ]
  },
  {
   "cell_type": "markdown",
   "metadata": {},
   "source": [
    "2. Init required GCP service API"
   ]
  },
  {
   "cell_type": "code",
   "execution_count": null,
   "metadata": {},
   "outputs": [],
   "source": [
    "import google.auth\n",
    "import googleapiclient.discovery\n",
    "\n",
    "def enable_gcp_service_apis(service_id: str):\n",
    "    # Imports the Google Cloud client library\n",
    "    import googleapiclient.discovery\n",
    "    from oauth2client.client import GoogleCredentials\n",
    "\n",
    "    credentials = GoogleCredentials.get_application_default()\n",
    "\n",
    "    # Create a ServiceUsage client\n",
    "    service_usage_client = googleapiclient.discovery.build(\"serviceusage\", \"v1\", credentials=credentials)\n",
    "\n",
    "    # The identifier of the service to be enabled\n",
    "    # service_id = \"aiplatform.googleapis.com\"  # TODO: Update placeholder value.\n",
    "\n",
    "    # Enables a service\n",
    "    service_usage_client.services().enable(\n",
    "            name=f\"projects/{PROJECT_ID}/services/{service_id}\"\n",
    "        ).execute()"
   ]
  },
  {
   "cell_type": "code",
   "execution_count": null,
   "metadata": {},
   "outputs": [],
   "source": [
    "required_service_apis = [\"aiplatform.googleapis.com\", \"artifactregistry.googleapis.com\", \"storage-component.googleapis.com\"]\n",
    "\n",
    "for service_id in required_service_apis:\n",
    "    enable_gcp_service_apis(service_id)"
   ]
  },
  {
   "cell_type": "markdown",
   "metadata": {},
   "source": [
    "3. Create Service Account(Skip this section if you has existing service account)"
   ]
  },
  {
   "cell_type": "code",
   "execution_count": null,
   "metadata": {},
   "outputs": [],
   "source": [
    "service_account_name = \"llama2-finetune\""
   ]
  },
  {
   "cell_type": "code",
   "execution_count": null,
   "metadata": {},
   "outputs": [],
   "source": [
    "import os\n",
    "\n",
    "from google.oauth2 import service_account  # type: ignore\n",
    "import googleapiclient.discovery  # type: ignore\n",
    "\n",
    "def create_service_account(project_id: str, name: str, display_name: str) -> str:\n",
    "    \"\"\"Creates a service account.\"\"\"\n",
    "\n",
    "    # credentials = service_account.Credentials.from_service_account_file(\n",
    "    #     filename=os.environ[\"GOOGLE_APPLICATION_CREDENTIALS\"],\n",
    "    #     scopes=[\"https://www.googleapis.com/auth/cloud-platform\"],\n",
    "    # )\n",
    "\n",
    "    service = googleapiclient.discovery.build(\"iam\", \"v1\") #, credentials=credentials)\n",
    "\n",
    "    my_service_account = (\n",
    "        service.projects()\n",
    "        .serviceAccounts()\n",
    "        .create(\n",
    "            name=\"projects/\" + project_id,\n",
    "            body={\"accountId\": name, \"serviceAccount\": {\"displayName\": display_name}},\n",
    "        )\n",
    "        .execute()\n",
    "    )\n",
    "\n",
    "    print(\"Created service account: \" + my_service_account[\"email\"])\n",
    "    return my_service_account[\"email\"]"
   ]
  },
  {
   "cell_type": "code",
   "execution_count": null,
   "metadata": {},
   "outputs": [],
   "source": [
    "SVC_ACCOUNT = create_service_account(project_id=PROJECT_ID, name=service_account_name, display_name=service_account_name)"
   ]
  },
  {
   "cell_type": "code",
   "execution_count": null,
   "metadata": {},
   "outputs": [],
   "source": [
    "import google.auth\n",
    "import googleapiclient.discovery\n",
    "\n",
    "def initialize_service() -> dict:\n",
    "    \"\"\"Initializes a Cloud Resource Manager service.\"\"\"\n",
    "\n",
    "    credentials, _ = google.auth.default(\n",
    "        scopes=[\"https://www.googleapis.com/auth/cloud-platform\"]\n",
    "    )\n",
    "    crm_service = googleapiclient.discovery.build(\n",
    "        \"cloudresourcemanager\", \"v1\", credentials=credentials\n",
    "    )\n",
    "    return crm_service\n",
    "\n",
    "\n",
    "def modify_policy_add_role(\n",
    "    crm_service: str, project_id: str, role: str, member: str\n",
    ") -> None:\n",
    "    \"\"\"Adds a new role binding to a policy.\"\"\"\n",
    "\n",
    "    policy = get_policy(crm_service, project_id)\n",
    "\n",
    "    binding = None\n",
    "    for b in policy[\"bindings\"]:\n",
    "        if b[\"role\"] == role:\n",
    "            binding = b\n",
    "            break\n",
    "    if binding is not None:\n",
    "        binding[\"members\"].append(member)\n",
    "    else:\n",
    "        binding = {\"role\": role, \"members\": [member]}\n",
    "        policy[\"bindings\"].append(binding)\n",
    "\n",
    "    set_policy(crm_service, project_id, policy)\n",
    "\n",
    "\n",
    "def modify_policy_remove_member(\n",
    "    crm_service: str, project_id: str, role: str, member: str\n",
    ") -> None:\n",
    "    \"\"\"Removes a  member from a role binding.\"\"\"\n",
    "\n",
    "    policy = get_policy(crm_service, project_id)\n",
    "\n",
    "    binding = next(b for b in policy[\"bindings\"] if b[\"role\"] == role)\n",
    "    if \"members\" in binding and member in binding[\"members\"]:\n",
    "        binding[\"members\"].remove(member)\n",
    "\n",
    "    set_policy(crm_service, project_id, policy)\n",
    "\n",
    "\n",
    "def get_policy(crm_service: str, project_id: str, version: int = 3) -> dict:\n",
    "    \"\"\"Gets IAM policy for a project.\"\"\"\n",
    "\n",
    "    policy = (\n",
    "        crm_service.projects()\n",
    "        .getIamPolicy(\n",
    "            resource=project_id,\n",
    "            body={\"options\": {\"requestedPolicyVersion\": version}},\n",
    "        )\n",
    "        .execute()\n",
    "    )\n",
    "    return policy\n",
    "\n",
    "\n",
    "def set_policy(crm_service: str, project_id: str, policy: str) -> dict:\n",
    "    \"\"\"Sets IAM policy for a project.\"\"\"\n",
    "\n",
    "    policy = (\n",
    "        crm_service.projects()\n",
    "        .setIamPolicy(resource=project_id, body={\"policy\": policy})\n",
    "        .execute()\n",
    "    )\n",
    "    return policy\n"
   ]
  },
  {
   "cell_type": "code",
   "execution_count": null,
   "metadata": {
    "vscode": {
     "languageId": "plaintext"
    }
   },
   "outputs": [],
   "source": [
    "# Role to be granted. For quick start, this notebook leverage an coarse access control policy, in production env we suggest you use the fine-gained access control policy.\n",
    "role = \"roles/owner\"\n",
    "\n",
    "# service account to be granted Role\n",
    "member = f\"serviceAccount:{SVC_ACCOUNT}\"\n",
    "\n",
    "# Initializes service.\n",
    "crm_service = initialize_service()\n",
    "\n",
    "# Grants your member the 'Log Writer' role for the project.\n",
    "modify_policy_add_role(crm_service, PROJECT_ID, role, member)\n",
    "\n",
    "# Gets the project's policy and prints all members with the 'Log Writer' role.\n",
    "policy = get_policy(crm_service, PROJECT_ID)\n",
    "binding = next(b for b in policy[\"bindings\"] if b[\"role\"] == role)\n",
    "print(f'Role: {(binding[\"role\"])}')\n",
    "print(\"Members: \")\n",
    "for m in binding[\"members\"]:\n",
    "    print(f\"[{m}]\")"
   ]
  },
  {
   "cell_type": "markdown",
   "metadata": {},
   "source": [
    "4. Create Cloud Bucket(Skip this section if you has existing Cloud Bucket)"
   ]
  },
  {
   "cell_type": "code",
   "execution_count": null,
   "metadata": {},
   "outputs": [],
   "source": [
    "bucket_name = f\"llama2-finetune-bucket-{PROJECT_ID}\""
   ]
  },
  {
   "cell_type": "code",
   "execution_count": null,
   "metadata": {},
   "outputs": [],
   "source": [
    "from google.cloud import storage\n",
    "\n",
    "def create_bucket_class_location(bucket_name):\n",
    "    \"\"\"\n",
    "    Create a new bucket in the US region with the coldline storage\n",
    "    class\n",
    "    \"\"\"\n",
    "    # bucket_name = \"your-new-bucket-name\"\n",
    "\n",
    "    storage_client = storage.Client()\n",
    "\n",
    "    bucket = storage_client.bucket(bucket_name)\n",
    "    bucket.storage_class = \"STANDARD\"\n",
    "    new_bucket = storage_client.create_bucket(bucket, location=REGION)\n",
    "\n",
    "    print(\n",
    "        \"Created bucket {} in {} with storage class {}\".format(\n",
    "            new_bucket.name, new_bucket.location, new_bucket.storage_class\n",
    "        )\n",
    "    )\n",
    "    return new_bucket.name"
   ]
  },
  {
   "cell_type": "code",
   "execution_count": null,
   "metadata": {},
   "outputs": [],
   "source": [
    "BUCKET_URI = \"gs://\" + create_bucket_class_location(bucket_name=bucket_name)"
   ]
  },
  {
   "cell_type": "markdown",
   "metadata": {},
   "source": [
    "5. Create Vertex AI tensorboard instance"
   ]
  },
  {
   "cell_type": "code",
   "execution_count": null,
   "metadata": {},
   "outputs": [],
   "source": [
    "# Create tensorboard instance\n",
    "from google.cloud import aiplatform\n",
    "\n",
    "def create_tensorboard_sample(\n",
    "    project: str,\n",
    "    display_name: str,\n",
    "    location: str,\n",
    "):\n",
    "    aiplatform.init(project=project, location=location)\n",
    "\n",
    "    tensorboard = aiplatform.Tensorboard.create(\n",
    "        display_name=display_name,\n",
    "        project=project,\n",
    "        location=location,\n",
    "    )\n",
    "\n",
    "    print(tensorboard.resource_name)\n",
    "    return tensorboard.resource_name"
   ]
  },
  {
   "cell_type": "code",
   "execution_count": null,
   "metadata": {},
   "outputs": [],
   "source": [
    "# input Vertex AI tensorboard instance id, example projects/<project_number>/locations/<region>/tensorboards/<tensorboard_instance_id>\n",
    "# TENSORBOARD= <TENSORBOARD_INSTANCE_ID> # @param {type:\"string\"}\n",
    "TENSORBOARD = create_tensorboard_sample(project=PROJECT_ID, display_name=TENSORBOARD_DISPLAY_NAME, location=REGION)"
   ]
  },
  {
   "cell_type": "markdown",
   "metadata": {},
   "source": [
    "6. Build custom training image"
   ]
  },
  {
   "cell_type": "code",
   "execution_count": null,
   "metadata": {},
   "outputs": [],
   "source": [
    "# create google cloud docker image artifact registry\n",
    "from google.cloud import artifactregistry_v1\n",
    "from google.cloud.artifactregistry_v1.types import Repository\n",
    "\n",
    "def create_docker_image_repository(repo_name: str, project_id: str, location: str):\n",
    "    # Create a client\n",
    "    client = artifactregistry_v1.ArtifactRegistryClient()\n",
    "\n",
    "    # Initialize Repository\n",
    "    name = f\"projects/{project_id}/locations/{location}/repositories/{repo_name}\"\n",
    "    repository = Repository(name=name, format_=Repository.Format.DOCKER)\n",
    "\n",
    "    # Initialize request argument(s)\n",
    "    parent_value = f\"projects/{project_id}/locations/{location}\"\n",
    "    request = artifactregistry_v1.CreateRepositoryRequest(\n",
    "        parent=parent_value,\n",
    "        repository_id=repo_name,\n",
    "        repository=repository,\n",
    "    )\n",
    "\n",
    "    # Make the request\n",
    "    operation = client.create_repository(request=request)\n",
    "\n",
    "    print(\"Waiting for operation to complete...\")\n",
    "\n",
    "    response = operation.result()\n",
    "\n",
    "    # Handle the response\n",
    "    print(response)"
   ]
  },
  {
   "cell_type": "code",
   "execution_count": null,
   "metadata": {},
   "outputs": [],
   "source": [
    "# create the docker image repository\n",
    "create_docker_image_repository(repo_name=REPO_NAME, project_id=PROJECT_ID, location=REGION)"
   ]
  },
  {
   "cell_type": "code",
   "execution_count": null,
   "metadata": {
    "vscode": {
     "languageId": "shellscript"
    }
   },
   "outputs": [],
   "source": [
    "# execute below command in terminal with the working directory ./custom_container\n",
    "!echo \"Y\" | gcloud auth configure-docker $REGION-docker.pkg.dev \n",
    "!docker build -t $IMAGE_URI .\n",
    "!docker push $IMAGE_URI"
   ]
  },
  {
   "cell_type": "markdown",
   "metadata": {},
   "source": [
    "7. Create Vertex AI custome training JOB"
   ]
  },
  {
   "cell_type": "code",
   "execution_count": null,
   "metadata": {},
   "outputs": [],
   "source": [
    "# Input cluster spec parameters\n",
    "HEAD_NODE_ACCELERATOR_COUNT = 1\n",
    "HEAD_NODE_COUNT = 1\n",
    "\n",
    "# If multinode training, set worker node spec parameters\n",
    "WORKER_NODE_ACCELERATOR_COUNT = 1\n",
    "WORKER_NODE_COUNT = 1"
   ]
  },
  {
   "cell_type": "code",
   "execution_count": null,
   "metadata": {},
   "outputs": [],
   "source": [
    "# Setup python package dependacy\n",
    "from datetime import datetime\n",
    "from google.cloud import aiplatform\n",
    "\n",
    "# init aiplaform sdk\n",
    "aiplatform.init(project=PROJECT_ID, staging_bucket=BUCKET_URI, location=REGION)"
   ]
  },
  {
   "cell_type": "code",
   "execution_count": null,
   "metadata": {},
   "outputs": [],
   "source": [
    "# Execute this cell to launch an SingleNode training\n",
    "if DEBUG == True:\n",
    "    command = []\n",
    "else:\n",
    "    command = [\"python\", \"train_launch.py\"] # Tobe update\n",
    "\n",
    "if MULTI_NODE == False:\n",
    "    worker_pool_specs = [\n",
    "        # `WorkerPoolSpec` for worker pool 0, primary replica, required  \n",
    "        {\n",
    "            \"machine_spec\": {\n",
    "                \"machine_type\": \"a2-highgpu-1g\", # \"a2-highgpu-1g\",\"g2-standard-12\",\"n1-standard-4\"\n",
    "                \"accelerator_type\": \"NVIDIA_TESLA_A100\", #\"NVIDIA_L4\",\n",
    "                \"accelerator_count\": HEAD_NODE_ACCELERATOR_COUNT,       \n",
    "            },\n",
    "            \"replica_count\": HEAD_NODE_COUNT,\n",
    "            \"container_spec\": {\n",
    "                \"image_uri\": IMAGE_URI,\n",
    "                \"command\": command,\n",
    "                \"args\": [],\n",
    "                \"env\": [],                \n",
    "            },\n",
    "            \"disk_spec\": {\n",
    "                \"boot_disk_size_gb\": 1000,            \n",
    "            }\n",
    "        },\n",
    "    ]\n",
    "\n",
    "    TIMESTAMP = datetime.now().strftime(\"%Y%m%d%H%M%S\")\n",
    "    JOB_NAME  = \"llama2finetunecustomjob \" + TIMESTAMP\n",
    "\n",
    "    my_job = aiplatform.CustomJob(\n",
    "        display_name=JOB_NAME,    \n",
    "        worker_pool_specs=worker_pool_specs,\n",
    "        base_output_dir=BUCKET_URI,\n",
    "    )"
   ]
  },
  {
   "cell_type": "code",
   "execution_count": null,
   "metadata": {},
   "outputs": [],
   "source": [
    "# Execute this cell to launch an MultiNode training\n",
    "if DEBUG == True:\n",
    "    command = []\n",
    "else:\n",
    "    command = [\"python\", \"train_launch.py\"] # Tobe update\n",
    "\n",
    "if MULTI_NODE == True:\n",
    "    worker_pool_specs = [\n",
    "        # `WorkerPoolSpec` for worker pool 0, primary replica, required  \n",
    "        {\n",
    "            \"machine_spec\": {\n",
    "                \"machine_type\": \"a2-highgpu-1g\", # \"a2-highgpu-1g\",\"g2-standard-12\",\"n1-standard-4\"\n",
    "                \"accelerator_type\": \"NVIDIA_TESLA_A100\", #\"NVIDIA_L4\",\n",
    "                \"accelerator_count\": HEAD_NODE_ACCELERATOR_COUNT,       \n",
    "            },\n",
    "            \"replica_count\": HEAD_NODE_COUNT,\n",
    "            \"container_spec\": {\n",
    "                \"image_uri\": IMAGE_URI,\n",
    "                \"command\": command,\n",
    "                \"args\": [],\n",
    "                \"env\": [],                \n",
    "            },\n",
    "        },\n",
    "        {\n",
    "        \"machine_spec\": {\n",
    "                \"machine_type\": \"a2-highgpu-1g\", # \"a2-highgpu-1g\",\"g2-standard-12\",\"n1-standard-4\"\n",
    "                \"accelerator_type\": \"NVIDIA_TESLA_A100\", #\"NVIDIA_L4\",\n",
    "                \"accelerator_count\": WORKER_NODE_ACCELERATOR_COUNT,          \n",
    "        },\n",
    "        \"replica_count\": WORKER_NODE_COUNT,        \n",
    "        \"container_spec\": {\n",
    "            \"image_uri\": IMAGE_URI,\n",
    "            \"command\": command,\n",
    "                \"args\": [],\n",
    "                \"env\": [],\n",
    "        },        \n",
    "        \"disk_spec\": {\n",
    "                \"boot_disk_size_gb\": 1000,            \n",
    "        }        \n",
    "        },\n",
    "    ]\n",
    "\n",
    "    TIMESTAMP = datetime.now().strftime(\"%Y%m%d%H%M%S\")\n",
    "    JOB_NAME  = \"llama2finetunecustomjob \" + TIMESTAMP\n",
    "\n",
    "    my_job = aiplatform.CustomJob(\n",
    "        display_name=JOB_NAME,    \n",
    "        worker_pool_specs=worker_pool_specs,\n",
    "        base_output_dir=BUCKET_URI,\n",
    "    )"
   ]
  },
  {
   "cell_type": "code",
   "execution_count": null,
   "metadata": {},
   "outputs": [],
   "source": [
    "# Submit Vertex AI custom trainig JOB\n",
    "my_job.submit(    \n",
    "    enable_web_access=True, # For debugging\n",
    "    service_account=SVC_ACCOUNT,\n",
    "    tensorboard=TENSORBOARD,\n",
    ")"
   ]
  }
 ],
 "metadata": {
  "language_info": {
   "name": "python"
  }
 },
 "nbformat": 4,
 "nbformat_minor": 2
}
